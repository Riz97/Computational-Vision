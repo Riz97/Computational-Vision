{
 "cells": [
  {
   "cell_type": "markdown",
   "id": "e78ede5f-f6c6-4637-aab6-b3d8bb6761f6",
   "metadata": {},
   "source": [
    "# Computational Vision Project - Image Matching - Alignment"
   ]
  },
  {
   "cell_type": "markdown",
   "id": "0256b667-ab89-4142-ac51-ec2d2aa55f6c",
   "metadata": {},
   "source": [
    "**Riccardo Caprile 4370774**"
   ]
  },
  {
   "cell_type": "code",
   "execution_count": null,
   "id": "a0f3fbf7-7c88-4edb-8765-29dd381309a1",
   "metadata": {},
   "outputs": [],
   "source": []
  }
 ],
 "metadata": {
  "kernelspec": {
   "display_name": "Python 3",
   "language": "python",
   "name": "python3"
  },
  "language_info": {
   "codemirror_mode": {
    "name": "ipython",
    "version": 3
   },
   "file_extension": ".py",
   "mimetype": "text/x-python",
   "name": "python",
   "nbconvert_exporter": "python",
   "pygments_lexer": "ipython3",
   "version": "3.8.8"
  }
 },
 "nbformat": 4,
 "nbformat_minor": 5
}
