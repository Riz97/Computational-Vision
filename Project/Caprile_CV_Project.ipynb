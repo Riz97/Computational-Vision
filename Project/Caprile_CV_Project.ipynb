{
 "cells": [
  {
   "cell_type": "markdown",
   "id": "e78ede5f-f6c6-4637-aab6-b3d8bb6761f6",
   "metadata": {},
   "source": [
    "# Computational Vision Project - Image Matching - Alignment"
   ]
  },
  {
   "cell_type": "markdown",
   "id": "0256b667-ab89-4142-ac51-ec2d2aa55f6c",
   "metadata": {},
   "source": [
    "**Riccardo Caprile 4370774**"
   ]
  },
  {
   "cell_type": "markdown",
   "id": "c944391e-8c99-4254-9093-a46d859a2bd3",
   "metadata": {},
   "source": [
    "Starting from a set of local keypoints (SIFT), align image pairs or image sets with respect to a common reference frame.\n",
    "\n",
    "Images of planar scenes can be registered by estimating an homography, that is a (projective) transformation between planes.\n",
    "\n",
    "Test with images acquired by you of the same planar scene shot from different distances \n",
    "\n",
    "\n",
    "All the information about this Notebook are written in the report.\n",
    "\n",
    "The output cells have been cleared otherwise the  file would have been too heavy for the upload to Aulaweb."
   ]
  },
  {
   "cell_type": "code",
   "execution_count": null,
   "id": "c3bfa43a-0d6f-43b7-aed4-c9fdc0b9fff6",
   "metadata": {},
   "outputs": [],
   "source": [
    "import cv2 \n",
    "import matplotlib.pyplot as plt\n",
    "import numpy as np\n",
    "\n",
    "MIN_MATCH_COUNT = 10"
   ]
  },
  {
   "cell_type": "markdown",
   "id": "65588c4d-5fc8-43b5-a9a8-9013b3786316",
   "metadata": {},
   "source": [
    "# Feature Matching Function\n",
    "\n",
    "Section 3.3 of the Report"
   ]
  },
  {
   "cell_type": "code",
   "execution_count": null,
   "id": "d647a519-91b4-4067-aa92-7b32ca341447",
   "metadata": {},
   "outputs": [],
   "source": [
    "def Feature_Matching(des1,des2,good_list,good,distance):\n",
    "    bf = cv2.BFMatcher()\n",
    "    matches = bf.knnMatch(des1,des2,k=2)\n",
    "       \n",
    "    for m,n in matches:\n",
    "        if m.distance < distance * n.distance:\n",
    "            good_list.append([m])\n",
    "            good.append(m)\n",
    "    return good_list, good"
   ]
  },
  {
   "cell_type": "markdown",
   "id": "5fa916cb-524c-4877-8eb2-47f73e0b6147",
   "metadata": {},
   "source": [
    " # Find Homography Function\n",
    " \n",
    " Section 3.4 of the Report"
   ]
  },
  {
   "cell_type": "code",
   "execution_count": null,
   "id": "bac0a894-2b50-4b2a-bae2-c7f0bdb77de9",
   "metadata": {},
   "outputs": [],
   "source": [
    "def findHomography(good,kp_1,kp_2):\n",
    "    if len(good)>MIN_MATCH_COUNT:\n",
    "        src_pts = np.float32([ kp1[m.queryIdx].pt for m in good ]).reshape(-1,1,2)\n",
    "        dst_pts = np.float32([ kp2[m.trainIdx].pt for m in good ]).reshape(-1,1,2)\n",
    "        \n",
    "    M, mask = cv2.findHomography(dst_pts, src_pts, cv2.RANSAC,5.0)\n",
    "    return M"
   ]
  },
  {
   "cell_type": "markdown",
   "id": "7719d533-fc39-4850-aff7-a549dbb1014a",
   "metadata": {},
   "source": [
    "# Plotting Function"
   ]
  },
  {
   "cell_type": "markdown",
   "id": "354c291c-92ad-450b-b0b6-5a5e16757e96",
   "metadata": {},
   "source": [
    "This a simple function that plot 2 different images in the same line of the output cell , with their own titles"
   ]
  },
  {
   "cell_type": "code",
   "execution_count": null,
   "id": "f8215765-7963-4a4f-b635-a86a2180ccf6",
   "metadata": {},
   "outputs": [],
   "source": [
    "def Plotting_2_Images(img1,img2,img1_title,img2_title):\n",
    "    fig = plt.figure(figsize = (30 ,50))\n",
    "    fig.add_subplot(1,2,1)\n",
    "    plt.title(img1_title)\n",
    "    plt.imshow((cv2.cvtColor(img1, cv2.COLOR_BGR2RGB)))\n",
    "    fig.add_subplot(1,2,2)\n",
    "    plt.title(img2_title)\n",
    "    plt.imshow(cv2.cvtColor(img2, cv2.COLOR_BGR2RGB))\n",
    "    plt.show()"
   ]
  },
  {
   "cell_type": "markdown",
   "id": "3002ab4b-5bcb-45d3-9484-153d688c52ce",
   "metadata": {},
   "source": [
    "This function plot 3 different images in the same line of the output with their own titles\n",
    "\n",
    "It also saves the result image in the project folder called Outputs"
   ]
  },
  {
   "cell_type": "code",
   "execution_count": null,
   "id": "b307e476-27c2-413a-8273-3fd2c9d30e3b",
   "metadata": {},
   "outputs": [],
   "source": [
    "def Plotting_3_Images(img1,img2,img3,img1_title,img2_title,img3_title):\n",
    "    fig = plt.figure(figsize = (30 ,50))\n",
    "    fig.add_subplot(1,3,1)\n",
    "    plt.title(img1_title)\n",
    "    plt.imshow((cv2.cvtColor(img1, cv2.COLOR_BGR2RGB)))\n",
    "    fig.add_subplot(1,3,2)\n",
    "    plt.title(img2_title)\n",
    "    plt.imshow(cv2.cvtColor(img2, cv2.COLOR_BGR2RGB))\n",
    "    fig.add_subplot(1,3,3)\n",
    "    plt.title(img3_title)\n",
    "    plt.imshow(cv2.cvtColor(img3, cv2.COLOR_BGR2RGB))\n",
    "    cv2.imwrite(\"Images/Outputs/\" + img3_title +\".jpg\", img3)\n",
    "    plt.show()"
   ]
  },
  {
   "cell_type": "markdown",
   "id": "50333e03-634d-4918-befc-ed1ade76a273",
   "metadata": {},
   "source": [
    "# TEST : Painting rotated of 90 degrees\n",
    "\n",
    "Section 4.1 of the Report"
   ]
  },
  {
   "cell_type": "markdown",
   "id": "b557d9cd-fd67-4f0d-aac1-b87b87dd5ef8",
   "metadata": {},
   "source": [
    "### Step 1 ---- > Read and Plot Images"
   ]
  },
  {
   "cell_type": "code",
   "execution_count": null,
   "id": "6cfc80f6-b311-433d-afe1-9a340077a8b4",
   "metadata": {},
   "outputs": [],
   "source": [
    "#Upload the images needed\n",
    "Ref = cv2.imread(\"Images/Main_Frame.jpg\")\n",
    "test1 = cv2.rotate(Ref,cv2.ROTATE_90_CLOCKWISE)\n",
    "\n",
    "\n",
    "Ref = cv2.cvtColor(Ref, cv2.COLOR_BGR2RGB)\n",
    "test1 = cv2.cvtColor(test1, cv2.COLOR_BGR2RGB)\n",
    "\n",
    "#Plot the images \n",
    "Plotting_2_Images(Ref, test1, \"Reference Image\", \"Test image\")"
   ]
  },
  {
   "cell_type": "markdown",
   "id": "2fb87db2-507f-4bdd-a3be-f9744a17acf1",
   "metadata": {},
   "source": [
    "### Step 2 ---->  Keypoints Extraction\n",
    "\n",
    "Section 3.1 and 3.2 of the report"
   ]
  },
  {
   "cell_type": "code",
   "execution_count": null,
   "id": "9c43cb4b-b89d-4a7f-a0ca-f3f15b0d6618",
   "metadata": {},
   "outputs": [],
   "source": [
    "#SIFT Detector\n",
    "sift = cv2.SIFT_create()\n",
    "\n",
    "#Find keypoints\n",
    "kp1, des1 = sift.detectAndCompute(Ref,None)\n",
    "kp2, des2 = sift.detectAndCompute(test1,None)\n",
    "\n",
    "sift_Ref = None\n",
    "sift_test1 = None"
   ]
  },
  {
   "cell_type": "code",
   "execution_count": null,
   "id": "bffa60af-b704-48ca-983d-2face1f7ca89",
   "metadata": {},
   "outputs": [],
   "source": [
    "#Draw all the Keypoints found\n",
    "sift_Ref = cv2.drawKeypoints(Ref, kp1, sift_Ref, flags=cv2.DRAW_MATCHES_FLAGS_DRAW_RICH_KEYPOINTS)\n",
    "sift_test1= cv2.drawKeypoints(test1, kp2, sift_test1, flags=cv2.DRAW_MATCHES_FLAGS_DRAW_RICH_KEYPOINTS)\n",
    "\n",
    "Plotting_2_Images(sift_Ref,sift_test1,\"Reference Image Keypoints\" , \"Test Image Keypoints\")"
   ]
  },
  {
   "cell_type": "markdown",
   "id": "ff75daf4-f686-4eb2-8833-b274362ae522",
   "metadata": {},
   "source": [
    "### Step 3 ----->  Feature Matching\n",
    "\n",
    "Section 3.3 of the Report"
   ]
  },
  {
   "cell_type": "code",
   "execution_count": null,
   "id": "6596c481-973a-480d-891d-444268de522d",
   "metadata": {},
   "outputs": [],
   "source": [
    "good = []\n",
    "good_list = []\n",
    "\n",
    "good_list , good = Feature_Matching (des1,des2,good_list,good,0.5)"
   ]
  },
  {
   "cell_type": "code",
   "execution_count": null,
   "id": "efd64742-44f7-4bfa-bf24-ad0be0423e2e",
   "metadata": {},
   "outputs": [],
   "source": [
    "img_Matched = None\n",
    "img_Matched = cv2.drawMatchesKnn(Ref,kp1,test1,kp2,good_list,img_Matched,flags=2)\n",
    "\n",
    "plt.figure(figsize=(50, 100))\n",
    "plt.imshow(cv2.cvtColor(img_Matched, cv2.COLOR_BGR2RGB))"
   ]
  },
  {
   "cell_type": "markdown",
   "id": "32af019b-aca0-470d-bae8-e8ce6b4460cc",
   "metadata": {},
   "source": [
    "### Step 4 ---- > Find Homography\n",
    "\n",
    "Section 3.4 of the Report"
   ]
  },
  {
   "cell_type": "code",
   "execution_count": null,
   "id": "d1a01cb5-e532-4afa-8d0f-1a1400b1af22",
   "metadata": {},
   "outputs": [],
   "source": [
    "homography = findHomography(good, kp1, kp2)"
   ]
  },
  {
   "cell_type": "markdown",
   "id": "68d3f1f1-81d6-462a-9048-4cbc131a37a4",
   "metadata": {},
   "source": [
    "### Step 5 -----> Warp Perspective\n",
    "\n",
    "Section 3.5 of the Report"
   ]
  },
  {
   "cell_type": "code",
   "execution_count": null,
   "id": "14774ca6-e95a-477a-81b9-a18dc531ad31",
   "metadata": {},
   "outputs": [],
   "source": [
    "aligned_img = cv2.warpPerspective(test1, homography, (Ref.shape[1], Ref.shape[0]))"
   ]
  },
  {
   "cell_type": "code",
   "execution_count": null,
   "id": "4a15999f-14ec-4806-bdbf-4d91a9dcf339",
   "metadata": {},
   "outputs": [],
   "source": [
    "#Plot the result\n",
    "Plotting_3_Images(Ref,test1,aligned_img, \"Reference Image\" , \"Test Image\",  \"Aligned  Painting Rotated\")"
   ]
  },
  {
   "cell_type": "markdown",
   "id": "67d97dd6-6b44-4bf9-a40b-2f8a91a1057f",
   "metadata": {},
   "source": [
    "# Test : Painting taken from a different angle\n",
    "\n",
    "Section 4.2 of the Report"
   ]
  },
  {
   "cell_type": "code",
   "execution_count": null,
   "id": "0476e7ff-db3d-4a3d-b81d-7ea52e8b06c5",
   "metadata": {},
   "outputs": [],
   "source": [
    "#Upload the images needed\n",
    "Ref = cv2.imread(\"Images/Main_Frame.jpg\")\n",
    "test1 = cv2.imread(\"Images/Right_Frame.jpg\")\n",
    "\n",
    "\n",
    "Ref = cv2.cvtColor(Ref, cv2.COLOR_BGR2RGB)\n",
    "test1 = cv2.cvtColor(test1, cv2.COLOR_BGR2RGB)\n",
    "\n",
    "#Plot the images \n",
    "Plotting_2_Images(Ref, test1, \"Referece Image\", \"Different Perspective Image\")"
   ]
  },
  {
   "cell_type": "markdown",
   "id": "66979cad-8029-4bbc-9960-d0db2dbc7532",
   "metadata": {},
   "source": [
    "### Step 2 ---->  Keypoints Extraction"
   ]
  },
  {
   "cell_type": "code",
   "execution_count": null,
   "id": "34bbacf8-469e-4c02-83d5-52674cf6f213",
   "metadata": {},
   "outputs": [],
   "source": [
    "#SIFT Detector\n",
    "sift = cv2.SIFT_create()\n",
    "\n",
    "#Find keypoints\n",
    "kp1, des1 = sift.detectAndCompute(Ref,None)\n",
    "kp2, des2 = sift.detectAndCompute(test1,None)\n",
    "\n",
    "sift_Ref = None\n",
    "sift_test1 = None"
   ]
  },
  {
   "cell_type": "code",
   "execution_count": null,
   "id": "43bc146c-335b-4fb4-a924-6af3713e5fe4",
   "metadata": {},
   "outputs": [],
   "source": [
    "#Draw all the Keypoints found\n",
    "sift_Ref = cv2.drawKeypoints(Ref, kp1, sift_Ref, flags=cv2.DRAW_MATCHES_FLAGS_DRAW_RICH_KEYPOINTS)\n",
    "sift_test1= cv2.drawKeypoints(test1, kp2, sift_test1, flags=cv2.DRAW_MATCHES_FLAGS_DRAW_RICH_KEYPOINTS)\n",
    "\n",
    "Plotting_2_Images(sift_Ref,sift_test1,\"Reference Image Keypoints\" , \"Test Image Keypoints\")"
   ]
  },
  {
   "cell_type": "markdown",
   "id": "9b653120-bd94-4063-b65e-c3d5a99023ec",
   "metadata": {},
   "source": [
    "### Step 3 ----->  Feature Matching"
   ]
  },
  {
   "cell_type": "code",
   "execution_count": null,
   "id": "1c92b022-d2b9-4338-86d1-1500d776a84e",
   "metadata": {},
   "outputs": [],
   "source": [
    "good = []\n",
    "good_list = []\n",
    "\n",
    "good_list , good = Feature_Matching (des1,des2,good_list,good,0.5)"
   ]
  },
  {
   "cell_type": "code",
   "execution_count": null,
   "id": "2a4ad1d5-7521-4f59-b316-fb0b70e3a9d8",
   "metadata": {},
   "outputs": [],
   "source": [
    "img_Matched = None\n",
    "img_Matched = cv2.drawMatchesKnn(Ref,kp1,test1,kp2,good_list,img_Matched,flags=2)\n",
    "\n",
    "plt.figure(figsize=(50, 100))\n",
    "plt.imshow(cv2.cvtColor(img_Matched, cv2.COLOR_BGR2RGB))"
   ]
  },
  {
   "cell_type": "markdown",
   "id": "02b1d5e7-ef23-4914-becb-1a0e519456e4",
   "metadata": {},
   "source": [
    "### Step 4 ---- > Find Homography"
   ]
  },
  {
   "cell_type": "code",
   "execution_count": null,
   "id": "8f733c95-ce05-4dc2-b58b-1652b42e28dd",
   "metadata": {},
   "outputs": [],
   "source": [
    "homography = findHomography(good, kp1, kp2)"
   ]
  },
  {
   "cell_type": "markdown",
   "id": "a9609dbe-7ee9-467d-bd07-df6a1efc3d68",
   "metadata": {},
   "source": [
    "### Step 5 -----> Warp Perspective"
   ]
  },
  {
   "cell_type": "code",
   "execution_count": null,
   "id": "613e0883-1ed1-4121-bb78-768e1409ee87",
   "metadata": {},
   "outputs": [],
   "source": [
    "aligned_img = cv2.warpPerspective(test1, homography, (Ref.shape[1], Ref.shape[0]))"
   ]
  },
  {
   "cell_type": "code",
   "execution_count": null,
   "id": "e744a4da-f150-4528-98b9-18255e5a4c34",
   "metadata": {},
   "outputs": [],
   "source": [
    "#Plot the result\n",
    "Plotting_3_Images(Ref,test1,aligned_img, \"Reference Image\" , \"Different Perspective Image\",  \"Aligned Painting  with Different Perspective\")"
   ]
  },
  {
   "cell_type": "markdown",
   "id": "0a6f621b-c816-4cda-aca7-1b86c0738719",
   "metadata": {},
   "source": [
    "# Test : Far Frame\n",
    "\n",
    "Section 4.3 of the Report"
   ]
  },
  {
   "cell_type": "code",
   "execution_count": null,
   "id": "238841d8-70b7-4275-92b5-7646bf698ab5",
   "metadata": {},
   "outputs": [],
   "source": [
    "#Upload the images needed\n",
    "Ref = cv2.imread(\"Images/Main_Frame.jpg\")\n",
    "test1 = cv2.imread(\"Images/Far_Frame.jpg\")\n",
    "\n",
    "\n",
    "Ref = cv2.cvtColor(Ref, cv2.COLOR_BGR2RGB)\n",
    "test1 = cv2.cvtColor(test1, cv2.COLOR_BGR2RGB)\n",
    "\n",
    "#Plot the images \n",
    "Plotting_2_Images(Ref, test1, \"Reference Image\", \"Far Image\")"
   ]
  },
  {
   "cell_type": "markdown",
   "id": "9084a8a1-3c9e-4e6c-9b77-665fedf3a6c6",
   "metadata": {},
   "source": [
    "### Step 2 ---->  Keypoints Extraction"
   ]
  },
  {
   "cell_type": "code",
   "execution_count": null,
   "id": "7ac18d3d-1161-4ccc-b709-436eff773cac",
   "metadata": {},
   "outputs": [],
   "source": [
    "#SIFT Detector\n",
    "sift = cv2.SIFT_create()\n",
    "\n",
    "#Find keypoints\n",
    "kp1, des1 = sift.detectAndCompute(Ref,None)\n",
    "kp2, des2 = sift.detectAndCompute(test1,None)\n",
    "\n",
    "sift_Ref = None\n",
    "sift_test1 = None"
   ]
  },
  {
   "cell_type": "code",
   "execution_count": null,
   "id": "9919f24a-0065-44e4-8c88-1f77f81dda91",
   "metadata": {},
   "outputs": [],
   "source": [
    "#Draw all the Keypoints found\n",
    "sift_Ref = cv2.drawKeypoints(Ref, kp1, sift_Ref, flags=cv2.DRAW_MATCHES_FLAGS_DRAW_RICH_KEYPOINTS)\n",
    "sift_test1= cv2.drawKeypoints(test1, kp2, sift_test1, flags=cv2.DRAW_MATCHES_FLAGS_DRAW_RICH_KEYPOINTS)\n",
    "\n",
    "Plotting_2_Images(sift_Ref,sift_test1,\"Reference Image Keypoints\" , \"Test Image Keypoints\")"
   ]
  },
  {
   "cell_type": "markdown",
   "id": "dbed1813-5330-4f42-a1c2-48d284d7efeb",
   "metadata": {},
   "source": [
    "### Step 3 ----->  Feature Matching"
   ]
  },
  {
   "cell_type": "code",
   "execution_count": null,
   "id": "82404bf5-52b7-47d9-ac52-ea25af8b1a08",
   "metadata": {},
   "outputs": [],
   "source": [
    "good = []\n",
    "good_list = []\n",
    "\n",
    "good_list , good = Feature_Matching (des1,des2,good_list,good,0.5)"
   ]
  },
  {
   "cell_type": "code",
   "execution_count": null,
   "id": "16e19d8b-a5be-4817-aaf8-93741a1373cc",
   "metadata": {},
   "outputs": [],
   "source": [
    "img_Matched = None\n",
    "img_Matched = cv2.drawMatchesKnn(Ref,kp1,test1,kp2,good_list,img_Matched,flags=2)\n",
    "\n",
    "plt.figure(figsize=(50, 100))\n",
    "plt.imshow(cv2.cvtColor(img_Matched, cv2.COLOR_BGR2RGB))"
   ]
  },
  {
   "cell_type": "markdown",
   "id": "b1beca0e-3815-4610-99b2-48cfcdd70b1a",
   "metadata": {},
   "source": [
    "### Step 4 ---- > Find Homography"
   ]
  },
  {
   "cell_type": "code",
   "execution_count": null,
   "id": "97ef3093-a7e5-4407-9f56-0676eea3d1ea",
   "metadata": {},
   "outputs": [],
   "source": [
    "homography = findHomography(good, kp1, kp2)"
   ]
  },
  {
   "cell_type": "markdown",
   "id": "e360e5ee-9c89-454a-9266-ac8ed26d4233",
   "metadata": {},
   "source": [
    "### Step 5 -----> Warp Perspective"
   ]
  },
  {
   "cell_type": "code",
   "execution_count": null,
   "id": "f80a7bba-411c-4385-8093-5189ab18bb9c",
   "metadata": {},
   "outputs": [],
   "source": [
    "aligned_img = cv2.warpPerspective(test1, homography, (Ref.shape[1], Ref.shape[0]))"
   ]
  },
  {
   "cell_type": "code",
   "execution_count": null,
   "id": "d255febf-d037-478d-8a8f-38a16c942199",
   "metadata": {},
   "outputs": [],
   "source": [
    "#Plot the result\n",
    "Plotting_3_Images(Ref,test1,aligned_img, \"Reference Image\" , \"Far Image\",  \"Aligned Far Painting\")"
   ]
  },
  {
   "cell_type": "markdown",
   "id": "26869d8f-a004-47c5-ab19-fd39a9a99201",
   "metadata": {},
   "source": [
    "# Test : 3D Dodecahedron\n",
    "\n",
    "Section 4.4 of the Report"
   ]
  },
  {
   "cell_type": "code",
   "execution_count": null,
   "id": "11733b05-cd25-44ed-bb79-d87aa7ff8c63",
   "metadata": {},
   "outputs": [],
   "source": [
    "#Upload the images needed\n",
    "Ref = cv2.imread(\"Images/Ref_Prism.jpg\")\n",
    "test1 = cv2.imread(\"Images/Prism.jpg\")\n",
    "\n",
    "\n",
    "Ref = cv2.cvtColor(Ref, cv2.COLOR_BGR2RGB)\n",
    "test1 = cv2.cvtColor(test1, cv2.COLOR_BGR2RGB)\n",
    "\n",
    "#Plot the images \n",
    "Plotting_2_Images(Ref, test1, \"Reference Image\", \"Test 3D Prism\")"
   ]
  },
  {
   "cell_type": "markdown",
   "id": "92564b0c-8110-42a5-a7e5-f0381dc1e9f2",
   "metadata": {},
   "source": [
    "### Step 2 ---->  Keypoints Extraction"
   ]
  },
  {
   "cell_type": "code",
   "execution_count": null,
   "id": "0a62e388-0163-41a8-b81c-eea00f031be3",
   "metadata": {},
   "outputs": [],
   "source": [
    "#SIFT Detector\n",
    "sift = cv2.SIFT_create()\n",
    "\n",
    "#Find keypoints\n",
    "kp1, des1 = sift.detectAndCompute(Ref,None)\n",
    "kp2, des2 = sift.detectAndCompute(test1,None)\n",
    "\n",
    "sift_Ref = None\n",
    "sift_test1 = None"
   ]
  },
  {
   "cell_type": "code",
   "execution_count": null,
   "id": "28f988db-94d3-492d-a829-548f94ab6cdf",
   "metadata": {},
   "outputs": [],
   "source": [
    "#Draw all the Keypoints found\n",
    "sift_Ref = cv2.drawKeypoints(Ref, kp1, sift_Ref, flags=cv2.DRAW_MATCHES_FLAGS_DRAW_RICH_KEYPOINTS)\n",
    "sift_test1= cv2.drawKeypoints(test1, kp2, sift_test1, flags=cv2.DRAW_MATCHES_FLAGS_DRAW_RICH_KEYPOINTS)\n",
    "\n",
    "Plotting_2_Images(sift_Ref,sift_test1,\"Reference Image Keypoints\" , \"Test Image Keypoints\")"
   ]
  },
  {
   "cell_type": "markdown",
   "id": "35b0b4a7-8f2e-4051-b442-df7a3fd2b8e3",
   "metadata": {},
   "source": [
    "### Step 3 ----->  Feature Matching"
   ]
  },
  {
   "cell_type": "code",
   "execution_count": null,
   "id": "ef48513f-01b7-4467-ab52-1a630bc202d5",
   "metadata": {},
   "outputs": [],
   "source": [
    "good = []\n",
    "good_list = []\n",
    "\n",
    "good_list , good = Feature_Matching (des1,des2,good_list,good,0.75)"
   ]
  },
  {
   "cell_type": "code",
   "execution_count": null,
   "id": "8d8d90af-1ff3-4b6a-9c63-c787106372d5",
   "metadata": {},
   "outputs": [],
   "source": [
    "img_Matched = None\n",
    "img_Matched = cv2.drawMatchesKnn(Ref,kp1,test1,kp2,good_list,img_Matched,flags=2)\n",
    "\n",
    "plt.figure(figsize=(50, 100))\n",
    "plt.imshow(cv2.cvtColor(img_Matched, cv2.COLOR_BGR2RGB))"
   ]
  },
  {
   "cell_type": "markdown",
   "id": "238a347f-920c-43fd-a1ea-fdcfe84abf19",
   "metadata": {},
   "source": [
    "### Step 4 ---- > Find Homography"
   ]
  },
  {
   "cell_type": "code",
   "execution_count": null,
   "id": "c85b26c5-2dd5-4d6d-9d77-65fa5c874ce0",
   "metadata": {},
   "outputs": [],
   "source": [
    "homography = findHomography(good, kp1, kp2)"
   ]
  },
  {
   "cell_type": "markdown",
   "id": "08fa2980-7717-4d1d-b9f5-500649e8f623",
   "metadata": {},
   "source": [
    "### Step 5 -----> Warp Perspective"
   ]
  },
  {
   "cell_type": "code",
   "execution_count": null,
   "id": "b3313eda-dcae-4091-a792-c7ad043dab1b",
   "metadata": {},
   "outputs": [],
   "source": [
    "aligned_img = cv2.warpPerspective(test1, homography, (Ref.shape[1], Ref.shape[0]))"
   ]
  },
  {
   "cell_type": "code",
   "execution_count": null,
   "id": "1e75d333-99ed-470c-bc2c-1782fb24267e",
   "metadata": {},
   "outputs": [],
   "source": [
    "#Plot the result\n",
    "Plotting_3_Images(Ref,test1,aligned_img, \"Reference Image\" , \"Test 3D Prism\",  \"Aligned 3D Prism\")"
   ]
  },
  {
   "cell_type": "markdown",
   "id": "9be10aa7-e598-4cde-9e77-ce6fe76d036f",
   "metadata": {},
   "source": [
    "# Test: 3D Space with Object and Drawings\n",
    "\n",
    "Section 4.5 of the Report"
   ]
  },
  {
   "cell_type": "code",
   "execution_count": null,
   "id": "d8c0b304-dda1-4e8c-8baf-dbbb00abbc7d",
   "metadata": {},
   "outputs": [],
   "source": [
    "#Upload the images needed\n",
    "Ref = cv2.imread(\"Images/Ref_Tape.jpg\")\n",
    "test1 = cv2.imread(\"Images/Tape.jpg\")\n",
    "\n",
    "\n",
    "Ref = cv2.cvtColor(Ref, cv2.COLOR_BGR2RGB)\n",
    "test1 = cv2.cvtColor(test1, cv2.COLOR_BGR2RGB)\n",
    "\n",
    "#Plot the images \n",
    "Plotting_2_Images(Ref, test1, \"Reference Image\", \"3D Space with Tape and two Images\")"
   ]
  },
  {
   "cell_type": "markdown",
   "id": "344c270e-fbbd-4568-9b8b-47fcc68f6baa",
   "metadata": {},
   "source": [
    "### Step 2 ---->  Keypoints Extraction"
   ]
  },
  {
   "cell_type": "code",
   "execution_count": null,
   "id": "76d40deb-1e87-4127-a1fd-d55e92d5b3df",
   "metadata": {},
   "outputs": [],
   "source": [
    "#SIFT Detector\n",
    "sift = cv2.SIFT_create()\n",
    "\n",
    "#Find keypoints\n",
    "kp1, des1 = sift.detectAndCompute(Ref,None)\n",
    "kp2, des2 = sift.detectAndCompute(test1,None)\n",
    "\n",
    "sift_Ref = None\n",
    "sift_test1 = None"
   ]
  },
  {
   "cell_type": "code",
   "execution_count": null,
   "id": "f78816e5-46dc-4cea-b302-f9da30cf0612",
   "metadata": {},
   "outputs": [],
   "source": [
    "#Draw all the Keypoints found\n",
    "sift_Ref = cv2.drawKeypoints(Ref, kp1, sift_Ref, flags=cv2.DRAW_MATCHES_FLAGS_DRAW_RICH_KEYPOINTS)\n",
    "sift_test1= cv2.drawKeypoints(test1, kp2, sift_test1, flags=cv2.DRAW_MATCHES_FLAGS_DRAW_RICH_KEYPOINTS)\n",
    "\n",
    "Plotting_2_Images(sift_Ref,sift_test1,\"Reference Image Keypoints\" , \"Test Image Keypoints\")"
   ]
  },
  {
   "cell_type": "markdown",
   "id": "f4570bfa-aed8-45e9-ab59-737a1963bebb",
   "metadata": {},
   "source": [
    "### Step 3 ----->  Feature Matching"
   ]
  },
  {
   "cell_type": "code",
   "execution_count": null,
   "id": "e9bb308a-b66a-4a8a-bbd4-61acc2584182",
   "metadata": {},
   "outputs": [],
   "source": [
    "good = []\n",
    "good_list = []\n",
    "\n",
    "good_list , good = Feature_Matching (des1,des2,good_list,good,0.75)"
   ]
  },
  {
   "cell_type": "code",
   "execution_count": null,
   "id": "0adaa8ae-bfe5-4e7b-969f-c1db2c7957b3",
   "metadata": {},
   "outputs": [],
   "source": [
    "img_Matched = None\n",
    "img_Matched = cv2.drawMatchesKnn(Ref,kp1,test1,kp2,good_list,img_Matched,flags=2)\n",
    "\n",
    "plt.figure(figsize=(50, 100))\n",
    "plt.imshow(cv2.cvtColor(img_Matched, cv2.COLOR_BGR2RGB))"
   ]
  },
  {
   "cell_type": "markdown",
   "id": "64398ec0-9ac8-4c4c-8629-62d85752bcab",
   "metadata": {},
   "source": [
    "### Step 4 ---- > Find Homography"
   ]
  },
  {
   "cell_type": "code",
   "execution_count": null,
   "id": "8ca60b04-539c-44c9-9589-98f235a6b712",
   "metadata": {},
   "outputs": [],
   "source": [
    "homography = findHomography(good, kp1, kp2)"
   ]
  },
  {
   "cell_type": "markdown",
   "id": "82c0d52d-c2c6-4b42-aa08-9f15abee4ce4",
   "metadata": {},
   "source": [
    "### Step 5 -----> Warp Perspective"
   ]
  },
  {
   "cell_type": "code",
   "execution_count": null,
   "id": "e97ad7a4-7248-4832-9ec6-9493446b874a",
   "metadata": {},
   "outputs": [],
   "source": [
    "aligned_img = cv2.warpPerspective(test1, homography, (Ref.shape[1], Ref.shape[0]))"
   ]
  },
  {
   "cell_type": "code",
   "execution_count": null,
   "id": "ce8c9fc4-c498-426d-b6a9-2f6dfc6c30bd",
   "metadata": {},
   "outputs": [],
   "source": [
    "#Plot the result\n",
    "Plotting_3_Images(Ref,test1,aligned_img, \"Reference Image\" , \"3D Space with Tape and two Images\",  \"Aligned 3D Space with Tape and two Images\")"
   ]
  },
  {
   "cell_type": "markdown",
   "id": "6da75395-7ec9-4748-9cd7-0e4c0dba0497",
   "metadata": {},
   "source": [
    "# Test : Alignment of a form\n",
    "\n",
    "Section 4.6 of the Report"
   ]
  },
  {
   "cell_type": "code",
   "execution_count": null,
   "id": "0e773c0d-4f29-492a-998f-58e6321314d0",
   "metadata": {},
   "outputs": [],
   "source": [
    "#Upload the images needed\n",
    "Ref = cv2.imread(\"Images/Ref_Form.jpg\")\n",
    "test1 = cv2.imread(\"Images/Form.jpg\")\n",
    "\n",
    "\n",
    "Ref = cv2.cvtColor(Ref, cv2.COLOR_BGR2RGB)\n",
    "test1 = cv2.cvtColor(test1, cv2.COLOR_BGR2RGB)\n",
    "\n",
    "#Plot the images \n",
    "Plotting_2_Images(Ref, test1, \"Reference Image\", \"Test Form\")"
   ]
  },
  {
   "cell_type": "markdown",
   "id": "81501a6f-a957-4c4f-bfee-ce5f00d9f44c",
   "metadata": {},
   "source": [
    "### Step 2 ---->  Keypoints Extraction"
   ]
  },
  {
   "cell_type": "code",
   "execution_count": null,
   "id": "310963d5-ed35-4724-bdb4-362d0b2991d3",
   "metadata": {},
   "outputs": [],
   "source": [
    "#SIFT Detector\n",
    "sift = cv2.SIFT_create()\n",
    "\n",
    "#Find keypoints\n",
    "kp1, des1 = sift.detectAndCompute(Ref,None)\n",
    "kp2, des2 = sift.detectAndCompute(test1,None)\n",
    "\n",
    "sift_Ref = None\n",
    "sift_test1 = None"
   ]
  },
  {
   "cell_type": "code",
   "execution_count": null,
   "id": "820160fb-018d-4b41-a5b0-bf5c281357e8",
   "metadata": {},
   "outputs": [],
   "source": [
    "#Draw all the Keypoints found\n",
    "sift_Ref = cv2.drawKeypoints(Ref, kp1, sift_Ref, flags=cv2.DRAW_MATCHES_FLAGS_DRAW_RICH_KEYPOINTS)\n",
    "sift_test1= cv2.drawKeypoints(test1, kp2, sift_test1, flags=cv2.DRAW_MATCHES_FLAGS_DRAW_RICH_KEYPOINTS)\n",
    "\n",
    "Plotting_2_Images(sift_Ref,sift_test1,\"Reference Image Keypoints\" , \"Test Image Keypoints\")"
   ]
  },
  {
   "cell_type": "markdown",
   "id": "e1e2c4d4-d49c-4544-b1cd-e8bb5f99afbc",
   "metadata": {},
   "source": [
    "### Step 3 ----->  Feature Matching"
   ]
  },
  {
   "cell_type": "code",
   "execution_count": null,
   "id": "2c69607e-ef9e-4d83-a912-aa30b6753865",
   "metadata": {},
   "outputs": [],
   "source": [
    "good = []\n",
    "good_list = []\n",
    "\n",
    "good_list , good = Feature_Matching (des1,des2,good_list,good,0.5)"
   ]
  },
  {
   "cell_type": "code",
   "execution_count": null,
   "id": "41b43cca-04e8-4633-bb28-86b2611c64bd",
   "metadata": {},
   "outputs": [],
   "source": [
    "img_Matched = None\n",
    "img_Matched = cv2.drawMatchesKnn(Ref,kp1,test1,kp2,good_list,img_Matched,flags=2)\n",
    "\n",
    "plt.figure(figsize=(50, 100))\n",
    "plt.imshow(cv2.cvtColor(img_Matched, cv2.COLOR_BGR2RGB))"
   ]
  },
  {
   "cell_type": "markdown",
   "id": "2be2ecfe-eb47-495a-8ec7-bc5ee8b0641f",
   "metadata": {},
   "source": [
    "### Step 4 ---- > Find Homography"
   ]
  },
  {
   "cell_type": "code",
   "execution_count": null,
   "id": "f48a6202-ed97-4f63-b6c4-d5c8d5a909f2",
   "metadata": {},
   "outputs": [],
   "source": [
    "homography = findHomography(good, kp1, kp2)"
   ]
  },
  {
   "cell_type": "markdown",
   "id": "33098ad7-805c-42c6-9a50-2dd30e80dc65",
   "metadata": {},
   "source": [
    "### Step 5 -----> Warp Perspective"
   ]
  },
  {
   "cell_type": "code",
   "execution_count": null,
   "id": "28964481-8002-4b69-a96e-70be3a3c2e96",
   "metadata": {},
   "outputs": [],
   "source": [
    "aligned_img = cv2.warpPerspective(test1, homography, (Ref.shape[1], Ref.shape[0]))"
   ]
  },
  {
   "cell_type": "code",
   "execution_count": null,
   "id": "b4c32f15-3d32-4cd1-a9fa-ae01dbc5e257",
   "metadata": {},
   "outputs": [],
   "source": [
    "#Plot the result\n",
    "Plotting_3_Images(Ref,test1,aligned_img, \"Reference Image\" , \"Test Form\",  \"Aligned Test Form\")"
   ]
  },
  {
   "cell_type": "markdown",
   "id": "a9b3a69b-009e-4a1b-b036-46a41affbfc0",
   "metadata": {},
   "source": [
    "# Test : OCR\n",
    "\n",
    "Section 4.7 of the Report"
   ]
  },
  {
   "cell_type": "code",
   "execution_count": null,
   "id": "87f93848-cc3a-4eb3-a43a-030f1699ff77",
   "metadata": {},
   "outputs": [],
   "source": [
    "#Upload the images needed\n",
    "Ref = cv2.imread(\"Images/Ref_Book_OCR.jpg\")\n",
    "test1 = cv2.imread(\"Images/Book_OCR.jpg\")\n",
    "\n",
    "\n",
    "Ref = cv2.cvtColor(Ref, cv2.COLOR_BGR2GRAY)\n",
    "test1 = cv2.cvtColor(test1, cv2.COLOR_BGR2GRAY)\n",
    "\n",
    "#Plot the images \n",
    "Plotting_2_Images(Ref, test1, \"Reference Image\", \"Test Book Cover\")"
   ]
  },
  {
   "cell_type": "markdown",
   "id": "25293660-dea6-40c4-934c-e4290a23f584",
   "metadata": {},
   "source": [
    "### Step 2 ---->  Keypoints Extraction"
   ]
  },
  {
   "cell_type": "code",
   "execution_count": null,
   "id": "22f7d245-8ac7-4490-866c-286249afee1d",
   "metadata": {},
   "outputs": [],
   "source": [
    "#SIFT Detector\n",
    "sift = cv2.SIFT_create()\n",
    "\n",
    "#Find keypoints\n",
    "kp1, des1 = sift.detectAndCompute(Ref,None)\n",
    "kp2, des2 = sift.detectAndCompute(test1,None)\n",
    "\n",
    "sift_Ref = None\n",
    "sift_test1 = None"
   ]
  },
  {
   "cell_type": "code",
   "execution_count": null,
   "id": "51a80da2-65e2-4e18-91cc-672d82868dce",
   "metadata": {},
   "outputs": [],
   "source": [
    "#Draw all the Keypoints found\n",
    "sift_Ref = cv2.drawKeypoints(Ref, kp1, sift_Ref, flags=cv2.DRAW_MATCHES_FLAGS_DRAW_RICH_KEYPOINTS)\n",
    "sift_test1= cv2.drawKeypoints(test1, kp2, sift_test1, flags=cv2.DRAW_MATCHES_FLAGS_DRAW_RICH_KEYPOINTS)\n",
    "\n",
    "Plotting_2_Images(sift_Ref,sift_test1,\"\" , \"\")"
   ]
  },
  {
   "cell_type": "markdown",
   "id": "4034559c-87ac-4b26-b564-a571022383d1",
   "metadata": {},
   "source": [
    "### Step 3 ----->  Feature Matching"
   ]
  },
  {
   "cell_type": "code",
   "execution_count": null,
   "id": "7cb069b7-89de-427b-9cf3-f3f5eddcb829",
   "metadata": {},
   "outputs": [],
   "source": [
    "good = []\n",
    "good_list = []\n",
    "\n",
    "good_list , good = Feature_Matching (des1,des2,good_list,good,0.5)"
   ]
  },
  {
   "cell_type": "code",
   "execution_count": null,
   "id": "80319c23-c026-400c-8139-fcd06f5c06cd",
   "metadata": {},
   "outputs": [],
   "source": [
    "img_Matched = None\n",
    "img_Matched = cv2.drawMatchesKnn(Ref,kp1,test1,kp2,good_list,img_Matched,flags=2)\n",
    "\n",
    "plt.figure(figsize=(50, 100))\n",
    "plt.imshow(cv2.cvtColor(img_Matched, cv2.COLOR_BGR2RGB))"
   ]
  },
  {
   "cell_type": "markdown",
   "id": "e337716e-f3d5-4f02-9965-f122ac85770d",
   "metadata": {},
   "source": [
    "### Step 4 ---- > Find Homography"
   ]
  },
  {
   "cell_type": "code",
   "execution_count": null,
   "id": "2db3be42-b291-4caf-9c22-3f0643eb2556",
   "metadata": {},
   "outputs": [],
   "source": [
    "homography = findHomography(good, kp1, kp2)"
   ]
  },
  {
   "cell_type": "markdown",
   "id": "25a7c2c0-e114-49e1-bc73-9aff496cb079",
   "metadata": {},
   "source": [
    "### Step 5 -----> Warp Perspective"
   ]
  },
  {
   "cell_type": "code",
   "execution_count": null,
   "id": "eb5aa4b5-4a70-4d43-8b0f-790c639bc7b9",
   "metadata": {},
   "outputs": [],
   "source": [
    "aligned_img = cv2.warpPerspective(test1, homography, (Ref.shape[1], Ref.shape[0]))"
   ]
  },
  {
   "cell_type": "code",
   "execution_count": null,
   "id": "b56fe4dc-0e6e-41e6-b7d4-f7b1cc699ee8",
   "metadata": {},
   "outputs": [],
   "source": [
    "#Plot the result\n",
    "Plotting_3_Images(Ref,test1,aligned_img, \"Reference Image\" , \"Test Book Cover\",  \"Aligned Test Book Cover\")"
   ]
  },
  {
   "cell_type": "markdown",
   "id": "b36774c2-43ea-4a4b-8bf0-57c5cb5cac00",
   "metadata": {},
   "source": [
    "# OCR Tests with two different Libraries"
   ]
  },
  {
   "cell_type": "markdown",
   "id": "387a2bde-9e4b-4531-b81d-87c03acca786",
   "metadata": {},
   "source": [
    "## Pytesseract \n",
    "\n",
    "Section 4.7.1 of the Report"
   ]
  },
  {
   "cell_type": "code",
   "execution_count": null,
   "id": "056c7099-d504-4ef4-b72b-2a76109eae12",
   "metadata": {},
   "outputs": [],
   "source": [
    "import pytesseract\n",
    "from pytesseract import Output"
   ]
  },
  {
   "cell_type": "code",
   "execution_count": null,
   "id": "a6632fa5-f9e9-42eb-9206-79ee4b5df574",
   "metadata": {},
   "outputs": [],
   "source": [
    "pytesseract.pytesseract.tesseract_cmd = 'D:\\Program Files\\Tesseract-OCR\\\\tesseract.exe'"
   ]
  },
  {
   "cell_type": "code",
   "execution_count": null,
   "id": "4294db33-22a8-49a7-8109-75d74de1b996",
   "metadata": {},
   "outputs": [],
   "source": [
    "text = pytesseract.image_to_string(aligned_img,lang='eng')\n",
    "print(text)"
   ]
  },
  {
   "cell_type": "markdown",
   "id": "6b870f30-6c60-4958-89fe-f5c8cf67b04d",
   "metadata": {},
   "source": [
    "## Keras OCR \n",
    "\n",
    "Section 4.7.2 of the Report"
   ]
  },
  {
   "cell_type": "code",
   "execution_count": null,
   "id": "84f2b088-b775-4f54-b15c-3afd922459d8",
   "metadata": {},
   "outputs": [],
   "source": [
    "#!pip install -q keras-ocr"
   ]
  },
  {
   "cell_type": "code",
   "execution_count": null,
   "id": "2d04aeff-2e51-4891-b964-13917f097cef",
   "metadata": {},
   "outputs": [],
   "source": [
    "import keras_ocr"
   ]
  },
  {
   "cell_type": "code",
   "execution_count": null,
   "id": "7e1f0404-275d-424b-b18a-6f5fd78af17e",
   "metadata": {},
   "outputs": [],
   "source": [
    "pipeline = keras_ocr.pipeline.Pipeline()\n",
    "\n",
    "images = [keras_ocr.tools.read( \"Images/Ref_Book_OCR.jpg\")]\n",
    "              \n",
    "prediction_groups = pipeline.recognize(images)\n",
    "\n",
    "predicted_image = prediction_groups[0]\n",
    "for text,box in predicted_image:\n",
    "    print(text)"
   ]
  },
  {
   "cell_type": "code",
   "execution_count": null,
   "id": "f0f8789c-67ee-45d0-b264-ff1855f98fdf",
   "metadata": {},
   "outputs": [],
   "source": []
  }
 ],
 "metadata": {
  "kernelspec": {
   "display_name": "Python 3",
   "language": "python",
   "name": "python3"
  },
  "language_info": {
   "codemirror_mode": {
    "name": "ipython",
    "version": 3
   },
   "file_extension": ".py",
   "mimetype": "text/x-python",
   "name": "python",
   "nbconvert_exporter": "python",
   "pygments_lexer": "ipython3",
   "version": "3.8.8"
  }
 },
 "nbformat": 4,
 "nbformat_minor": 5
}
