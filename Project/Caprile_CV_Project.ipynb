{
 "cells": [
  {
   "cell_type": "markdown",
   "id": "e78ede5f-f6c6-4637-aab6-b3d8bb6761f6",
   "metadata": {},
   "source": [
    "# Computational Vision Project - Image Matching - Alignment"
   ]
  },
  {
   "cell_type": "markdown",
   "id": "0256b667-ab89-4142-ac51-ec2d2aa55f6c",
   "metadata": {},
   "source": [
    "**Riccardo Caprile 4370774**"
   ]
  },
  {
   "cell_type": "markdown",
   "id": "d0f3c446-0f5a-4249-a502-0be9d051e5c8",
   "metadata": {},
   "source": [
    "Starting from a set of local keypoints (SIFT), align image pairs or image sets with respect to a common reference frame. \n",
    "\n",
    "Images of planar scenes can be registered by estimating an homography, that is a (projective) transformation between planes. Test with images acquired by you of the same planar scene shot from different distances \n",
    "\n",
    "Inspiration from https://pyimagesearch.com/2020/08/31/image-alignment-and-registration-with-opencv/"
   ]
  }
 ],
 "metadata": {
  "kernelspec": {
   "display_name": "Python 3",
   "language": "python",
   "name": "python3"
  },
  "language_info": {
   "codemirror_mode": {
    "name": "ipython",
    "version": 3
   },
   "file_extension": ".py",
   "mimetype": "text/x-python",
   "name": "python",
   "nbconvert_exporter": "python",
   "pygments_lexer": "ipython3",
   "version": "3.8.8"
  }
 },
 "nbformat": 4,
 "nbformat_minor": 5
}
